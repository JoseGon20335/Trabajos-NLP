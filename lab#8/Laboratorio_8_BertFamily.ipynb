{
  "cells": [
    {
      "cell_type": "markdown",
      "metadata": {
        "id": "9eSDMKTy6w0v"
      },
      "source": [
        "NOMBRE: Jose Miguel Gonzalez\n",
        "\n",
        "\n",
        "CARNE: 20335\n",
        "\n",
        "\n",
        "\n",
        "FECHA: 10/06/2024"
      ]
    },
    {
      "cell_type": "markdown",
      "metadata": {
        "id": "oqmU3ERX66z2"
      },
      "source": [
        "**Objetivo:** La idea de esta práctica es que puedan llevar a cabo una tarea de Name Entity Recognition (NER) con Bert y spantBert, y sean capaces de comparar cuál rinde mejor.\n",
        "\n",
        "Responda las siguiente preguntas:\n",
        "1. ¿Qué es una tarea ner?\n",
        "2. ¿Cuál metrica de rendimiento debe usar en este caso?"
      ]
    },
    {
      "cell_type": "code",
      "execution_count": 1,
      "metadata": {
        "id": "md2_lz2t60Xo"
      },
      "outputs": [
        {
          "ename": "ModuleNotFoundError",
          "evalue": "No module named 'datasets'",
          "output_type": "error",
          "traceback": [
            "\u001b[1;31m---------------------------------------------------------------------------\u001b[0m",
            "\u001b[1;31mModuleNotFoundError\u001b[0m                       Traceback (most recent call last)",
            "Input \u001b[1;32mIn [1]\u001b[0m, in \u001b[0;36m<cell line: 4>\u001b[1;34m()\u001b[0m\n\u001b[0;32m      2\u001b[0m \u001b[38;5;28;01mimport\u001b[39;00m \u001b[38;5;21;01mtorch\u001b[39;00m\n\u001b[0;32m      3\u001b[0m \u001b[38;5;28;01mfrom\u001b[39;00m \u001b[38;5;21;01mtransformers\u001b[39;00m \u001b[38;5;28;01mimport\u001b[39;00m AutoTokenizer, AutoModelForTokenClassification, TrainingArguments, Trainer\n\u001b[1;32m----> 4\u001b[0m \u001b[38;5;28;01mfrom\u001b[39;00m \u001b[38;5;21;01mdatasets\u001b[39;00m \u001b[38;5;28;01mimport\u001b[39;00m load_dataset, load_metric\n\u001b[0;32m      5\u001b[0m \u001b[38;5;28;01mimport\u001b[39;00m \u001b[38;5;21;01mnumpy\u001b[39;00m \u001b[38;5;28;01mas\u001b[39;00m \u001b[38;5;21;01mnp\u001b[39;00m\n\u001b[0;32m      6\u001b[0m \u001b[38;5;28;01mfrom\u001b[39;00m \u001b[38;5;21;01msklearn\u001b[39;00m\u001b[38;5;21;01m.\u001b[39;00m\u001b[38;5;21;01mmetrics\u001b[39;00m \u001b[38;5;28;01mimport\u001b[39;00m classification_report\n",
            "\u001b[1;31mModuleNotFoundError\u001b[0m: No module named 'datasets'"
          ]
        }
      ],
      "source": [
        "#Librerías\n",
        "import torch\n",
        "from transformers import AutoTokenizer, AutoModelForTokenClassification, TrainingArguments, Trainer\n",
        "from datasets import load_dataset, load_metric\n",
        "import numpy as np\n",
        "from sklearn.metrics import classification_report"
      ]
    },
    {
      "cell_type": "code",
      "execution_count": null,
      "metadata": {
        "id": "pmsvNr-s63r_"
      },
      "outputs": [],
      "source": [
        "#Dataset\n",
        "dataset = load_dataset(\"conll2003\")"
      ]
    },
    {
      "cell_type": "code",
      "execution_count": null,
      "metadata": {
        "id": "HQM7k0cJ7S6-"
      },
      "outputs": [],
      "source": [
        "spanbert = \"SpanBERT/spanbert-base-cased\"\n",
        "\n",
        "#Tokenizador\n",
        "tokenizer = AutoTokenizer.from_pretrained(spanbert)\n",
        "\n",
        "#Función de codificación\n",
        "def tokenizeAndAlignLabels(examples):\n",
        "    tokenizedInputs = tokenizer(\n",
        "        examples[\"tokens\"], \n",
        "        truncation=True, \n",
        "        is_split_into_words=True,\n",
        "        padding=\"max_length\",\n",
        "        max_length=43\n",
        "    )\n",
        "    \n",
        "    labels = []\n",
        "\n",
        "    for i, label in enumerate(examples['ner_tags']):\n",
        "        word_ids = tokenizedInputs.word_ids(i)  # Get the word ids for the tokens\n",
        "        label_ids = [-100 if id is None else label[id] for id in word_ids]  # Align labels\n",
        "        labels.append(label_ids)\n",
        "\n",
        "    tokenizedInputs['labels'] = labels\n",
        "    return tokenizedInputs\n",
        "\n",
        "#Dataset codificado\n",
        "tokenizedDataset = dataset.map(tokenizeAndAlignLabels, batched=True)\n",
        "\n",
        "#Modelo\n",
        "model = AutoModelForTokenClassification.from_pretrained(\n",
        "    spanbert, \n",
        "    num_labels=dataset['train'].features['ner_tags'].feature.num_classes\n",
        ")\n",
        "\n",
        "#Métrica\n",
        "metric = load(\"seqeval\")\n",
        "\n",
        "#Función de entrenamiento\n",
        "def computeMetrics(p):\n",
        "    predictions, labels = p\n",
        "    predictions = np.argmax(predictions, axis=2)\n",
        "\n",
        "    # Eliminar las predicciones de los tokens de relleno\n",
        "    truePredictions = [\n",
        "        [dataset[\"train\"].features[\"ner_tags\"].feature.names[prediction] for idx, prediction in enumerate(examplePredictions) if labels[idx] != -100]\n",
        "        for examplePredictions, labels in zip(predictions, labels)\n",
        "    ]\n",
        "    trueLabels = [\n",
        "        [dataset[\"train\"].features[\"ner_tags\"].feature.names[label] for idx, label in enumerate(exampleLabels) if label != -100]\n",
        "        for exampleLabels in labels\n",
        "    ]\n",
        "\n",
        "    results = metric.compute(predictions=truePredictions, references=trueLabels)\n",
        "    return {\n",
        "        \"precision\": results[\"overall_precision\"],\n",
        "        \"recall\": results[\"overall_recall\"],\n",
        "        \"f1\": results[\"overall_f1\"],\n",
        "        \"accuracy\": results[\"overall_accuracy\"]\n",
        "    }\n",
        "\n",
        "#Argumentos de entrenamiento\n",
        "trainingArguments = TrainingArguments(\n",
        "    output_dir='./results',\n",
        "    eval_strategy=\"epoch\",\n",
        "    learning_rate=2e-5,\n",
        "    per_device_train_batch_size=16,\n",
        "    per_device_eval_batch_size=16,\n",
        "    num_train_epochs=3,\n",
        ")\n",
        "\n",
        "#Entrenador\n",
        "trainer = Trainer(\n",
        "    model=model,\n",
        "    args=trainingArguments,\n",
        "    train_dataset=tokenizedDataset[\"train\"],\n",
        "    eval_dataset=tokenizedDataset[\"validation\"],\n",
        "    compute_metrics=computeMetrics\n",
        ")\n",
        "\n",
        "#Entrenamiento\n",
        "trainer.train()\n",
        "\n",
        "#Evaluación\n",
        "evaluationSpanbert = trainer.evaluate()"
      ]
    },
    {
      "cell_type": "code",
      "execution_count": null,
      "metadata": {},
      "outputs": [],
      "source": [
        "bert = \"bert-base-uncased\"\n",
        "\n",
        "#Tokenizador\n",
        "tokenizer = AutoTokenizer.from_pretrained(spanbert)\n",
        "\n",
        "#Función de codificación\n",
        "def tokenizeAndAlignLabels(examples):\n",
        "    tokenizedInputs = tokenizer(\n",
        "        examples[\"tokens\"], \n",
        "        truncation=True, \n",
        "        is_split_into_words=True,\n",
        "        padding=\"max_length\",\n",
        "        max_length=43\n",
        "    )\n",
        "    \n",
        "    labels = []\n",
        "\n",
        "    for i, label in enumerate(examples['ner_tags']):\n",
        "        word_ids = tokenizedInputs.word_ids(i)  # Get the word ids for the tokens\n",
        "        label_ids = [-100 if id is None else label[id] for id in word_ids]  # Align labels\n",
        "        labels.append(label_ids)\n",
        "\n",
        "    tokenizedInputs['labels'] = labels\n",
        "    return tokenizedInputs\n",
        "\n",
        "#Dataset codificado\n",
        "tokenizedDataset = dataset.map(tokenizeAndAlignLabels, batched=True)\n",
        "\n",
        "#Modelo\n",
        "model = AutoModelForTokenClassification.from_pretrained(\n",
        "    spanbert, \n",
        "    num_labels=dataset['train'].features['ner_tags'].feature.num_classes\n",
        ")\n",
        "\n",
        "#Métrica\n",
        "metric = load(\"seqeval\")\n",
        "\n",
        "#Función de entrenamiento\n",
        "def computeMetrics(p):\n",
        "    predictions, labels = p\n",
        "    predictions = np.argmax(predictions, axis=2)\n",
        "\n",
        "    # Eliminar las predicciones de los tokens de relleno\n",
        "    truePredictions = [\n",
        "        [dataset[\"train\"].features[\"ner_tags\"].feature.names[prediction] for idx, prediction in enumerate(examplePredictions) if labels[idx] != -100]\n",
        "        for examplePredictions, labels in zip(predictions, labels)\n",
        "    ]\n",
        "    trueLabels = [\n",
        "        [dataset[\"train\"].features[\"ner_tags\"].feature.names[label] for idx, label in enumerate(exampleLabels) if label != -100]\n",
        "        for exampleLabels in labels\n",
        "    ]\n",
        "\n",
        "    results = metric.compute(predictions=truePredictions, references=trueLabels)\n",
        "    return {\n",
        "        \"precision\": results[\"overall_precision\"],\n",
        "        \"recall\": results[\"overall_recall\"],\n",
        "        \"f1\": results[\"overall_f1\"],\n",
        "        \"accuracy\": results[\"overall_accuracy\"]\n",
        "    }\n",
        "\n",
        "#Argumentos de entrenamiento\n",
        "trainingArguments = TrainingArguments(\n",
        "    output_dir='./results',\n",
        "    eval_strategy=\"epoch\",\n",
        "    learning_rate=2e-5,\n",
        "    per_device_train_batch_size=16,\n",
        "    per_device_eval_batch_size=16,\n",
        "    num_train_epochs=3,\n",
        ")\n",
        "\n",
        "#Entrenador\n",
        "trainer = Trainer(\n",
        "    model=model,\n",
        "    args=trainingArguments,\n",
        "    train_dataset=tokenizedDataset[\"train\"],\n",
        "    eval_dataset=tokenizedDataset[\"validation\"],\n",
        "    compute_metrics=computeMetrics\n",
        ")\n",
        "\n",
        "#Entrenamiento\n",
        "trainer.train()\n",
        "\n",
        "#Evaluación\n",
        "evaluationBert = trainer.evaluate()"
      ]
    },
    {
      "cell_type": "code",
      "execution_count": null,
      "metadata": {},
      "outputs": [],
      "source": [
        "# Compare the two models\n",
        "print(\"SpanBERT:\")\n",
        "print(evaluationSpanbert)\n",
        "print(\"BERT:\")\n",
        "print(evaluationBert)"
      ]
    }
  ],
  "metadata": {
    "colab": {
      "provenance": []
    },
    "kernelspec": {
      "display_name": "Python 3",
      "name": "python3"
    },
    "language_info": {
      "codemirror_mode": {
        "name": "ipython",
        "version": 3
      },
      "file_extension": ".py",
      "mimetype": "text/x-python",
      "name": "python",
      "nbconvert_exporter": "python",
      "pygments_lexer": "ipython3",
      "version": "3.10.11"
    }
  },
  "nbformat": 4,
  "nbformat_minor": 0
}
