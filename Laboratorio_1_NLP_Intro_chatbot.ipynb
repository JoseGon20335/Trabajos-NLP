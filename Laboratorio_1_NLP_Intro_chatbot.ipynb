{
  "nbformat": 4,
  "nbformat_minor": 0,
  "metadata": {
    "colab": {
      "provenance": []
    },
    "kernelspec": {
      "name": "python3",
      "display_name": "Python 3"
    },
    "language_info": {
      "name": "python"
    }
  },
  "cells": [
    {
      "cell_type": "markdown",
      "source": [
        "NOMBRES:\n",
        "\n",
        "APELLIDOS:\n",
        "\n",
        "CARNE:\n",
        "\n",
        "FECHA:"
      ],
      "metadata": {
        "id": "zXhjY9dGwJls"
      }
    },
    {
      "cell_type": "markdown",
      "source": [
        "***Instrucciones:**\n",
        "\n",
        "Objetivo general: Construir un chatbot simple que responda en dos condiciones: si se le habla por su nombre que responda preguntando cómo estás. Si se le habla por un apodo que \"considere\" ofensivo, que responda \"No me trates así\".\n",
        "\n",
        "\n",
        "1.   Investigue la librería re de Python\n",
        "2.   Determine, como expresiones regulares de saludo a \"Hola\", \"Que tal\", \"Buenos días\", \"Buenas tardes\". Si usted considera pertinente agregar una más tiene libertad de hacerlo.\n",
        "3. Procure que el chatbot no sea \"case sensitive\".\n",
        "4. Procure que el chatbot pueda trabajar con todos los caracteres de \"a-z\".}\n",
        "5. Evalue si su chatbot es susceptible a errores ortográficos. ¿Sí o no? En caso afirmativo ¿Cómo lo corregiría? Discuta su idea, no está obligado a programarlo.\n",
        "\n",
        "\n"
      ],
      "metadata": {
        "id": "48-U5dvMxDBK"
      }
    },
    {
      "cell_type": "code",
      "source": [],
      "metadata": {
        "id": "viZbeCe1w1CN"
      },
      "execution_count": null,
      "outputs": []
    }
  ]
}