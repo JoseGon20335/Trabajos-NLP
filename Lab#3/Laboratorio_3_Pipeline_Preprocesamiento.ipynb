{
  "cells": [
    {
      "cell_type": "markdown",
      "metadata": {
        "id": "IUvRApnRKSI9"
      },
      "source": [
        "NOMBRES: Jose Miguel\n",
        "\n",
        "APELLIDOS: Gonzalez y Gonzalez\n",
        "\n",
        "CARNE: 20335\n",
        "\n",
        "FECHA: 25/07/2024"
      ]
    },
    {
      "cell_type": "markdown",
      "metadata": {
        "id": "7-7-RdQDQsYE"
      },
      "source": [
        "**Instrucciones:**\n",
        "\n",
        "El objetivo de esta práctica es que apliquen lo visto en clase y en otros cursos. Al texto \"metamorphosis_kafka\" deben aplicarse técnicas de tokenización, lemmatización, stemming y normalización. Sin embargo, estos procesos no se aplican de manera indiscriminada. Para este proyecto tienen que aplicar las técnicas a **1 de 2 objetivos**.\n",
        "\n",
        "1. Este texto se usará para entrenar un LLM para que escriba con un estilo kafkiano.\n",
        "2. Reconocer textos escritor por Kafka. El objetivo final en esta línea sería poder etiquetar algo como \"kafka\" y \"no kafka\".\n",
        "\n",
        "Para ambas perspectivas qué tipos de tokenización, lemmatización, stemming y normalización utilizaría. Ej: tokenizaría por oraciones en lugares de palabras, tomaría o no en cuenta signos de puntuación, removería stopwords o no, etc. Si para esto consulta otras fuentes, citelas.\n",
        "\n",
        "Luego de explicar ambas perspectivas **escoja 1** y programe cada una de las etapas.\n",
        "\n",
        "Se recomienda que antes de empezar, revise el texto para ver si hay cosas que le conviene editar antes de empezar a programar."
      ]
    },
    {
      "cell_type": "code",
      "execution_count": 10,
      "metadata": {},
      "outputs": [
        {
          "name": "stderr",
          "output_type": "stream",
          "text": [
            "[nltk_data] Downloading package punkt to\n",
            "[nltk_data]     C:\\Users\\josem\\AppData\\Roaming\\nltk_data...\n",
            "[nltk_data]   Package punkt is already up-to-date!\n",
            "[nltk_data] Downloading package stopwords to\n",
            "[nltk_data]     C:\\Users\\josem\\AppData\\Roaming\\nltk_data...\n",
            "[nltk_data]   Package stopwords is already up-to-date!\n",
            "[nltk_data] Downloading package wordnet to\n",
            "[nltk_data]     C:\\Users\\josem\\AppData\\Roaming\\nltk_data...\n",
            "[nltk_data]   Package wordnet is already up-to-date!\n",
            "[nltk_data] Downloading package omw-1.4 to\n",
            "[nltk_data]     C:\\Users\\josem\\AppData\\Roaming\\nltk_data...\n",
            "[nltk_data]   Package omw-1.4 is already up-to-date!\n"
          ]
        },
        {
          "name": "stdout",
          "output_type": "stream",
          "text": [
            "[['\\ufeffThe', 'Project', 'Gutenberg', 'eBook', 'of', 'Metamorphosis', 'This', 'ebook', 'is', 'for', 'the', 'use', 'of', 'anyone', 'anywhere', 'in', 'the', 'United', 'States', 'and', 'most', 'other', 'part', 'of', 'the', 'world', 'at', 'no', 'cost', 'and', 'with', 'almost', 'no', 'restriction', 'whatsoever', '.'], ['You', 'may', 'copy', 'it', ',', 'give', 'it', 'away', 'or', 're-use', 'it', 'under', 'the', 'term', 'of', 'the', 'Project', 'Gutenberg', 'License', 'included', 'with', 'this', 'ebook', 'or', 'online', 'at', 'www.gutenberg.org', '.'], ['If', 'you', 'are', 'not', 'located', 'in', 'the', 'United', 'States', ',', 'you', 'will', 'have', 'to', 'check', 'the', 'law', 'of', 'the', 'country', 'where', 'you', 'are', 'located', 'before', 'using', 'this', 'eBook', '.']]\n"
          ]
        }
      ],
      "source": [
        "import nltk\n",
        "from nltk.tokenize import sent_tokenize, word_tokenize\n",
        "from nltk.corpus import stopwords\n",
        "from nltk.stem import WordNetLemmatizer\n",
        "\n",
        "# Descargar recursos de NLTK necesarios\n",
        "nltk.download('punkt')\n",
        "nltk.download('stopwords')\n",
        "nltk.download('wordnet')\n",
        "nltk.download('omw-1.4')\n",
        "\n",
        "# Cargar el texto del archivo\n",
        "with open('./metamorphosis_kafka.txt', 'r', encoding='utf-8') as file:\n",
        "    text = file.read()\n",
        "\n",
        "# Tokenización por oraciones\n",
        "sentences = sent_tokenize(text)\n",
        "\n",
        "# Tokenización por palabras incluyendo signos de puntuación\n",
        "words = [word_tokenize(sentence) for sentence in sentences]\n",
        "\n",
        "# Lemmatización selectiva\n",
        "lemmatizer = WordNetLemmatizer()\n",
        "lemmatized_words = []\n",
        "for sentence in words:\n",
        "    lemmatized_sentence = [lemmatizer.lemmatize(word) for word in sentence]\n",
        "    lemmatized_words.append(lemmatized_sentence)\n",
        "\n",
        "# Mostrar un fragmento del resultado\n",
        "print(lemmatized_words[:3])  # Muestra las primeras 3 oraciones lematizadas\n"
      ]
    },
    {
      "cell_type": "code",
      "execution_count": 11,
      "metadata": {},
      "outputs": [
        {
          "name": "stdout",
          "output_type": "stream",
          "text": [
            "Oración original: ﻿The Project Gutenberg eBook of Metamorphosis This ebook is for the use of anyone anywhere in the United States and most other parts of the world at no cost and with almost no restrictions whatsoever .\n",
            "Oración lematizada: ﻿The Project Gutenberg eBook of Metamorphosis This ebook is for the use of anyone anywhere in the United States and most other part of the world at no cost and with almost no restriction whatsoever .\n",
            "\n",
            "\n",
            "Oración original: You may copy it , give it away or re-use it under the terms of the Project Gutenberg License included with this ebook or online at www.gutenberg.org .\n",
            "Oración lematizada: You may copy it , give it away or re-use it under the term of the Project Gutenberg License included with this ebook or online at www.gutenberg.org .\n",
            "\n",
            "\n",
            "Oración original: If you are not located in the United States , you will have to check the laws of the country where you are located before using this eBook .\n",
            "Oración lematizada: If you are not located in the United States , you will have to check the law of the country where you are located before using this eBook .\n",
            "\n",
            "\n"
          ]
        }
      ],
      "source": [
        "for i in range(3):\n",
        "    print(f\"Oración original: {' '.join(words[i])}\")\n",
        "    print(f\"Oración lematizada: {' '.join(lemmatized_words[i])}\")\n",
        "    print(\"\\n\")"
      ]
    }
  ],
  "metadata": {
    "colab": {
      "provenance": []
    },
    "kernelspec": {
      "display_name": "Python 3",
      "name": "python3"
    },
    "language_info": {
      "codemirror_mode": {
        "name": "ipython",
        "version": 3
      },
      "file_extension": ".py",
      "mimetype": "text/x-python",
      "name": "python",
      "nbconvert_exporter": "python",
      "pygments_lexer": "ipython3",
      "version": "3.11.4"
    }
  },
  "nbformat": 4,
  "nbformat_minor": 0
}
