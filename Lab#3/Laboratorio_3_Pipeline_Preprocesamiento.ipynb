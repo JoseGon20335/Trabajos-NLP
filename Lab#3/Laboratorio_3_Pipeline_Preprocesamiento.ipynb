{
  "cells": [
    {
      "cell_type": "markdown",
      "metadata": {
        "id": "IUvRApnRKSI9"
      },
      "source": [
        "NOMBRES: Jose Miguel\n",
        "\n",
        "APELLIDOS: Gonzalez y Gonzalez\n",
        "\n",
        "CARNE: 20335\n",
        "\n",
        "FECHA: 25/07/2024"
      ]
    },
    {
      "cell_type": "markdown",
      "metadata": {
        "id": "7-7-RdQDQsYE"
      },
      "source": [
        "**Instrucciones:**\n",
        "\n",
        "El objetivo de esta práctica es que apliquen lo visto en clase y en otros cursos. Al texto \"metamorphosis_kafka\" deben aplicarse técnicas de tokenización, lemmatización, stemming y normalización. Sin embargo, estos procesos no se aplican de manera indiscriminada. Para este proyecto tienen que aplicar las técnicas a **1 de 2 objetivos**.\n",
        "\n",
        "1. Este texto se usará para entrenar un LLM para que escriba con un estilo kafkiano.\n",
        "2. Reconocer textos escritor por Kafka. El objetivo final en esta línea sería poder etiquetar algo como \"kafka\" y \"no kafka\".\n",
        "\n",
        "Para ambas perspectivas qué tipos de tokenización, lemmatización, stemming y normalización utilizaría. Ej: tokenizaría por oraciones en lugares de palabras, tomaría o no en cuenta signos de puntuación, removería stopwords o no, etc. Si para esto consulta otras fuentes, citelas.\n",
        "\n",
        "Luego de explicar ambas perspectivas **escoja 1** y programe cada una de las etapas.\n",
        "\n",
        "Se recomienda que antes de empezar, revise el texto para ver si hay cosas que le conviene editar antes de empezar a programar."
      ]
    },
    {
      "cell_type": "markdown",
      "metadata": {},
      "source": [
        "\n",
        "En el proceso de preparación del texto de Kafka para entrenar un modelo de lenguaje que capture su estilo característico, es fundamental aplicar ciertas técnicas de procesamiento de texto de manera específica y cuidadosa para preservar su esencia literaria. A continuación, se detalla cómo se deben aplicar estas técnicas:\n",
        "\n",
        "## Tokenizacion\n",
        "- En primer lugar, la *tokenización* es crucial para dividir el texto en unidades manejables. En este caso, es recomendable optar por la tokenización por oraciones. Esta elección permite capturar la estructura sintáctica y la fluidez de las oraciones largas que son distintivas del estilo de Kafka. Además, es esencial incluir los signos de puntuación como comas, puntos y comas, y guiones, ya que estos elementos no solo son parte integral de la narrativa, sino que también contribuyen al ritmo y la atmósfera del texto. \n",
        "\n",
        "\n",
        "- Al mantener estos signos, se preserva la musicalidad y el flujo natural del lenguaje. Asimismo, es importante no remover las stopwords, que son palabras comunes como \"the\", \"is\", \"in\". Estas palabras, aunque pueden parecer triviales, son esenciales para mantener la coherencia y el estilo natural del texto, permitiendo a Kafka construir una atmósfera específica.\n",
        "\n",
        "## Lemmatizacion\n",
        "- En cuanto a la *lemmatización*, se recomienda una lematización selectiva. Esto significa que, si bien se puede reducir las palabras a sus formas base para simplificar el procesamiento, es crucial hacerlo con cautela. Por ejemplo, mantener ciertas formas verbales o sustantivas que podrían perder su matiz si se reducen demasiado es fundamental. \n",
        "\n",
        "\n",
        "- Un ejemplo de esto es la palabra \"thought\", que es el pasado de \"think\". Mantener su forma correcta es importante para respetar el tiempo verbal y el tono de la narrativa.\n",
        "\n",
        "\n",
        "## Steamming\n",
        "- En el caso del *stemming*, es preferible evitar su uso. El stemming puede ser una técnica demasiado agresiva que elimina matices importantes de las palabras, lo cual es contraproducente cuando se trata de preservar el estilo literario específico de Kafka. \n",
        "\n",
        "\n",
        "- En lugar de esto, se sugiere optar por la lematización selectiva, que permite conservar los detalles y sutilezas del lenguaje original.\n",
        "\n",
        "\n",
        "## Normalizacion\n",
        "- Finalmente, en la *normalización*, se debe prestar especial atención a preservar la capitalización y la estructura de las frases. Mantener la capitalización original es importante ya que puede influir significativamente en el tono y la interpretación de las frases. Por ejemplo, el uso de mayúsculas en ciertos contextos puede denotar un énfasis o resaltar un nombre propio que es relevante para la narrativa. Además, es fundamental un manejo cuidadoso de los caracteres especiales. \n",
        "\n",
        "\n",
        "- Kafka utiliza guiones, comillas y otros signos para añadir tono y estilo a su escritura, y estos deben conservarse o, si es necesario, sustituirse de manera que no alteren el significado o el flujo del texto.\n",
        "\n",
        "\n",
        "- En conclusión, para asegurar que el modelo de lenguaje capture el estilo kafkiano, es crucial mantener la mayor parte del texto en su forma original, enfocándose en la estructura y el flujo natural del lenguaje utilizado por Kafka. La aplicación de estas técnicas de procesamiento debe ser precisa y estar orientada a preservar el estilo literario distintivo del autor, permitiendo que el modelo aprenda a replicar su estilo de manera efectiva."
      ]
    },
    {
      "cell_type": "code",
      "execution_count": 1,
      "metadata": {},
      "outputs": [
        {
          "name": "stderr",
          "output_type": "stream",
          "text": [
            "[nltk_data] Downloading package punkt to\n",
            "[nltk_data]     C:\\Users\\josem\\AppData\\Roaming\\nltk_data...\n",
            "[nltk_data]   Package punkt is already up-to-date!\n",
            "[nltk_data] Downloading package stopwords to\n",
            "[nltk_data]     C:\\Users\\josem\\AppData\\Roaming\\nltk_data...\n",
            "[nltk_data]   Package stopwords is already up-to-date!\n",
            "[nltk_data] Downloading package wordnet to\n",
            "[nltk_data]     C:\\Users\\josem\\AppData\\Roaming\\nltk_data...\n",
            "[nltk_data]   Package wordnet is already up-to-date!\n",
            "[nltk_data] Downloading package omw-1.4 to\n",
            "[nltk_data]     C:\\Users\\josem\\AppData\\Roaming\\nltk_data...\n",
            "[nltk_data]   Package omw-1.4 is already up-to-date!\n"
          ]
        },
        {
          "name": "stdout",
          "output_type": "stream",
          "text": [
            "[['\\ufeffOne', 'morning', ',', 'when', 'Gregor', 'Samsa', 'woke', 'from', 'troubled', 'dream', ',', 'he', 'found', 'himself', 'transformed', 'in', 'his', 'bed', 'into', 'a', 'horrible', 'vermin', '.'], ['He', 'lay', 'on', 'his', 'armour-like', 'back', ',', 'and', 'if', 'he', 'lifted', 'his', 'head', 'a', 'little', 'he', 'could', 'see', 'his', 'brown', 'belly', ',', 'slightly', 'domed', 'and', 'divided', 'by', 'arch', 'into', 'stiff', 'section', '.'], ['The', 'bedding', 'wa', 'hardly', 'able', 'to', 'cover', 'it', 'and', 'seemed', 'ready', 'to', 'slide', 'off', 'any', 'moment', '.']]\n"
          ]
        }
      ],
      "source": [
        "import nltk\n",
        "from nltk.tokenize import sent_tokenize, word_tokenize\n",
        "from nltk.corpus import stopwords\n",
        "from nltk.stem import WordNetLemmatizer\n",
        "\n",
        "# Descargar recursos de NLTK necesarios\n",
        "nltk.download('punkt')\n",
        "nltk.download('stopwords')\n",
        "nltk.download('wordnet')\n",
        "nltk.download('omw-1.4')\n",
        "\n",
        "# Cargar el texto del archivo\n",
        "with open('./metamorphosis_kafka.txt', 'r', encoding='utf-8') as file:\n",
        "    text = file.read()\n",
        "\n",
        "# Tokenización por oraciones\n",
        "sentences = sent_tokenize(text)\n",
        "\n",
        "# Tokenización por palabras incluyendo signos de puntuación\n",
        "words = [word_tokenize(sentence) for sentence in sentences]\n",
        "\n",
        "# Lemmatización selectiva\n",
        "lemmatizer = WordNetLemmatizer()\n",
        "lemmatized_words = []\n",
        "for sentence in words:\n",
        "    lemmatized_sentence = [lemmatizer.lemmatize(word) for word in sentence]\n",
        "    lemmatized_words.append(lemmatized_sentence)\n",
        "\n",
        "# Mostrar un fragmento del resultado\n",
        "print(lemmatized_words[:3])  # Muestra las primeras 3 oraciones lematizadas\n"
      ]
    },
    {
      "cell_type": "code",
      "execution_count": 2,
      "metadata": {},
      "outputs": [
        {
          "name": "stdout",
          "output_type": "stream",
          "text": [
            "Oración original: ﻿One morning , when Gregor Samsa woke from troubled dreams , he found himself transformed in his bed into a horrible vermin .\n",
            "Oración lematizada: ﻿One morning , when Gregor Samsa woke from troubled dream , he found himself transformed in his bed into a horrible vermin .\n",
            "\n",
            "\n",
            "Oración original: He lay on his armour-like back , and if he lifted his head a little he could see his brown belly , slightly domed and divided by arches into stiff sections .\n",
            "Oración lematizada: He lay on his armour-like back , and if he lifted his head a little he could see his brown belly , slightly domed and divided by arch into stiff section .\n",
            "\n",
            "\n",
            "Oración original: The bedding was hardly able to cover it and seemed ready to slide off any moment .\n",
            "Oración lematizada: The bedding wa hardly able to cover it and seemed ready to slide off any moment .\n",
            "\n",
            "\n"
          ]
        }
      ],
      "source": [
        "for i in range(3):\n",
        "    print(f\"Oración original: {' '.join(words[i])}\")\n",
        "    print(f\"Oración lematizada: {' '.join(lemmatized_words[i])}\")\n",
        "    print(\"\\n\")"
      ]
    }
  ],
  "metadata": {
    "colab": {
      "provenance": []
    },
    "kernelspec": {
      "display_name": "Python 3",
      "name": "python3"
    },
    "language_info": {
      "codemirror_mode": {
        "name": "ipython",
        "version": 3
      },
      "file_extension": ".py",
      "mimetype": "text/x-python",
      "name": "python",
      "nbconvert_exporter": "python",
      "pygments_lexer": "ipython3",
      "version": "3.11.4"
    }
  },
  "nbformat": 4,
  "nbformat_minor": 0
}
