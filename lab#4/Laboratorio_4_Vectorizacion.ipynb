{
  "cells": [
    {
      "cell_type": "markdown",
      "metadata": {
        "id": "zXhjY9dGwJls"
      },
      "source": [
        "NOMBRES: Jose Miguel\n",
        "\n",
        "APELLIDOS: Gonzalez y Gonzalez\n",
        "\n",
        "CARNE: 20335\n",
        "\n",
        "FECHA: 8/23/2024"
      ]
    },
    {
      "cell_type": "markdown",
      "metadata": {
        "id": "n7nnvCPLh5Ms"
      },
      "source": [
        "**Ejercicio 1**\n",
        "Con los datos, cálcule PPMI, pero aplicando Lapace Smoothing."
      ]
    },
    {
      "cell_type": "code",
      "execution_count": 174,
      "metadata": {
        "id": "r3aTZXJeiFAI"
      },
      "outputs": [],
      "source": [
        "import numpy as np\n",
        "import pandas as pd"
      ]
    },
    {
      "cell_type": "code",
      "execution_count": 175,
      "metadata": {},
      "outputs": [
        {
          "data": {
            "text/html": [
              "<div>\n",
              "<style scoped>\n",
              "    .dataframe tbody tr th:only-of-type {\n",
              "        vertical-align: middle;\n",
              "    }\n",
              "\n",
              "    .dataframe tbody tr th {\n",
              "        vertical-align: top;\n",
              "    }\n",
              "\n",
              "    .dataframe thead th {\n",
              "        text-align: right;\n",
              "    }\n",
              "</style>\n",
              "<table border=\"1\" class=\"dataframe\">\n",
              "  <thead>\n",
              "    <tr style=\"text-align: right;\">\n",
              "      <th></th>\n",
              "      <th>Unnamed: 0</th>\n",
              "      <th>Unnamed: 1</th>\n",
              "      <th>Unnamed: 2</th>\n",
              "      <th>Unnamed: 3</th>\n",
              "      <th>Unnamed: 4</th>\n",
              "      <th>Unnamed: 5</th>\n",
              "    </tr>\n",
              "  </thead>\n",
              "  <tbody>\n",
              "    <tr>\n",
              "      <th>0</th>\n",
              "      <td>NaN</td>\n",
              "      <td>Computer</td>\n",
              "      <td>data</td>\n",
              "      <td>result</td>\n",
              "      <td>pie</td>\n",
              "      <td>sugar</td>\n",
              "    </tr>\n",
              "    <tr>\n",
              "      <th>1</th>\n",
              "      <td>Cherry</td>\n",
              "      <td>2</td>\n",
              "      <td>8</td>\n",
              "      <td>9</td>\n",
              "      <td>44260</td>\n",
              "      <td>25</td>\n",
              "    </tr>\n",
              "    <tr>\n",
              "      <th>2</th>\n",
              "      <td>Strawberry</td>\n",
              "      <td>0</td>\n",
              "      <td>0</td>\n",
              "      <td>1</td>\n",
              "      <td>5</td>\n",
              "      <td>19</td>\n",
              "    </tr>\n",
              "    <tr>\n",
              "      <th>3</th>\n",
              "      <td>Digital</td>\n",
              "      <td>1670</td>\n",
              "      <td>1683</td>\n",
              "      <td>85</td>\n",
              "      <td>5</td>\n",
              "      <td>4</td>\n",
              "    </tr>\n",
              "    <tr>\n",
              "      <th>4</th>\n",
              "      <td>Information</td>\n",
              "      <td>3325</td>\n",
              "      <td>3982</td>\n",
              "      <td>378</td>\n",
              "      <td>512</td>\n",
              "      <td>13</td>\n",
              "    </tr>\n",
              "  </tbody>\n",
              "</table>\n",
              "</div>"
            ],
            "text/plain": [
              "    Unnamed: 0 Unnamed: 1 Unnamed: 2 Unnamed: 3 Unnamed: 4 Unnamed: 5\n",
              "0          NaN   Computer       data     result        pie      sugar\n",
              "1       Cherry          2          8          9      44260         25\n",
              "2   Strawberry          0          0          1          5         19\n",
              "3      Digital       1670       1683         85          5          4\n",
              "4  Information       3325       3982        378        512         13"
            ]
          },
          "execution_count": 175,
          "metadata": {},
          "output_type": "execute_result"
        }
      ],
      "source": [
        "# Cargar el archivo proporcionado\n",
        "file_path = './pmi_ejercicio.xlsx'\n",
        "data = pd.read_excel(file_path)\n",
        "\n",
        "# Mostrar las primeras filas del archivo para entender su estructura\n",
        "data.head()"
      ]
    },
    {
      "cell_type": "code",
      "execution_count": 176,
      "metadata": {
        "id": "Hf3GX1_liFXd"
      },
      "outputs": [],
      "source": [
        "# Renombrar columnas para mayor claridad\n",
        "data.columns = [\"Term\"] + list(data.iloc[0, 1:])\n",
        "data = data[1:]\n",
        "\n",
        "# Convertir los valores numéricos a enteros para realizar los cálculos\n",
        "for col in data.columns[1:]:\n",
        "    data[col] = pd.to_numeric(data[col], errors='coerce').fillna(0).astype(int)\n",
        "\n",
        "# Calcular las frecuencias totales por palabra (sumando filas y columnas)\n",
        "total_word_frequency = data.set_index(\"Term\").sum(axis=1) + data.drop(columns=[\"Term\"]).sum(axis=0)\n",
        "\n",
        "# Calcular el total de todas las coocurrencias\n",
        "total_cooccurrences = data.drop(columns=[\"Term\"]).values.sum()\n",
        "\n",
        "# Calcular la probabilidad conjunta y aplicar Laplace Smoothing\n",
        "laplace_k = 1  # Smoothing factor\n",
        "vocab_size = len(total_word_frequency)  # Tamaño del vocabulario\n",
        "\n",
        "# Crear una matriz de probabilidades suavizadas\n",
        "ppmi_matrix = pd.DataFrame(index=data[\"Term\"], columns=data.columns[1:])\n"
      ]
    },
    {
      "cell_type": "code",
      "execution_count": 177,
      "metadata": {},
      "outputs": [
        {
          "name": "stdout",
          "output_type": "stream",
          "text": [
            "            Computer data result pie sugar\n",
            "Term                                      \n",
            "Cherry             0    0      0   0     0\n",
            "Strawberry         0    0      0   0     0\n",
            "Digital            0    0      0   0     0\n",
            "Information        0    0      0   0     0\n"
          ]
        }
      ],
      "source": [
        "for term1 in ppmi_matrix.index:\n",
        "    for term2 in ppmi_matrix.columns:\n",
        "        cooccurrence = data.loc[data[\"Term\"] == term1, term2].values[0]\n",
        "        # Probabilidad conjunta suavizada\n",
        "        p_xy = (cooccurrence + laplace_k) / (total_cooccurrences + laplace_k * vocab_size ** 2)\n",
        "        # Probabilidad marginales suavizadas\n",
        "        p_x = (total_word_frequency[term1] + laplace_k * vocab_size) / (total_cooccurrences + laplace_k * vocab_size ** 2)\n",
        "        p_y = (total_word_frequency[term2] + laplace_k * vocab_size) / (total_cooccurrences + laplace_k * vocab_size ** 2)\n",
        "        \n",
        "        # Calcular PMI\n",
        "        pmi = np.log2(p_xy / (p_x * p_y)) if p_x * p_y > 0 else 0\n",
        "        \n",
        "        # Calcular PPMI\n",
        "        ppmi_matrix.loc[term1, term2] = max(pmi, 0)\n",
        "\n",
        "# Mostrar el resultado\n",
        "print(ppmi_matrix)"
      ]
    },
    {
      "cell_type": "markdown",
      "metadata": {
        "id": "fzRf6sNDiF1v"
      },
      "source": [
        "**Ejercicio 2**\n",
        "\n",
        "POC para crear información de entreno"
      ]
    },
    {
      "cell_type": "markdown",
      "metadata": {
        "id": "f16xWrpDiH-9"
      },
      "source": []
    },
    {
      "cell_type": "code",
      "execution_count": 178,
      "metadata": {},
      "outputs": [
        {
          "name": "stdout",
          "output_type": "stream",
          "text": [
            "The tensorboard extension is already loaded. To reload it, use:\n",
            "  %reload_ext tensorboard\n"
          ]
        }
      ],
      "source": [
        "# Librerías que necesitarán\n",
        "import io\n",
        "import re\n",
        "import string\n",
        "import tqdm\n",
        "import numpy as np\n",
        "import tensorflow as tf\n",
        "from tensorflow.keras import layers\n",
        "from tensorflow.keras import losses\n",
        "from tensorflow.keras import preprocessing\n",
        "from tensorflow.keras import utils\n",
        "from tensorflow.keras.callbacks import TensorBoard\n",
        "import datetime\n",
        "\n",
        "%load_ext tensorboard\n",
        "\n",
        "SEED = 42\n",
        "AUTOTUNE = tf.data.AUTOTUNE"
      ]
    },
    {
      "cell_type": "code",
      "execution_count": 179,
      "metadata": {},
      "outputs": [],
      "source": [
        "sentence = \"The wind crosses the brown land unheard\"  # De mis poemas favoritos. The Waste Land de T.S. Eliot\n",
        "tokens = sentence.lower().split()  # Tokenizar dividiendo la oración en palabras y convirtiendo todo a minúsculas\n",
        "vocab, index = {}, 1  # Arreglo de vocabulario, empezar el índice en 1\n",
        "vocab[\"<pad>\"] = 0  # Es importante tener un padding token para que el programa no explote\n",
        "\n",
        "# Llenar el arreglo para vocabulario\n",
        "for word in tokens:\n",
        "    if word not in vocab:\n",
        "        vocab[word] = index\n",
        "        index += 1\n",
        "\n",
        "vocab_size = len(vocab)\n",
        "example_sequence = [vocab[word] for word in tokens]\n",
        "window_size = 2\n",
        "\n",
        "# Generar positive skip-grams\n",
        "positive_skip_grams, _ = tf.keras.preprocessing.sequence.skipgrams(\n",
        "    example_sequence,\n",
        "    vocabulary_size=vocab_size,\n",
        "    window_size=window_size,\n",
        "    negative_samples=0\n",
        ")"
      ]
    },
    {
      "cell_type": "code",
      "execution_count": 180,
      "metadata": {},
      "outputs": [
        {
          "name": "stdout",
          "output_type": "stream",
          "text": [
            "(5, 6): (land, unheard)\n",
            "(6, 5): (unheard, land)\n",
            "(1, 4): (the, brown)\n",
            "(3, 1): (crosses, the)\n",
            "(4, 6): (brown, unheard)\n"
          ]
        }
      ],
      "source": [
        "# Resultados\n",
        "inverse_vocab = {index: token for token, index in vocab.items()}\n",
        "for target, context in positive_skip_grams[:5]:\n",
        "    print(f\"({target}, {context}): ({inverse_vocab[target]}, {inverse_vocab[context]})\")\n"
      ]
    },
    {
      "cell_type": "code",
      "execution_count": 181,
      "metadata": {},
      "outputs": [],
      "source": [
        "target_word, context_word = positive_skip_grams[0]\n",
        "# Escoger un número para muestras negativas (que no pertenece al contexto)\n",
        "num_ns = 4  # Número de muestras negativas\n",
        "\n",
        "context_class = tf.reshape(tf.constant(context_word, dtype=\"int64\"), (1, 1))\n",
        "negative_sampling_candidates, _, _ = tf.random.log_uniform_candidate_sampler(\n",
        "    true_classes=context_class,  # Clase que debe ser muestreada como positiva (que pertenece al contexto)\n",
        "    num_true=1,\n",
        "    num_sampled=num_ns,\n",
        "    unique=True,\n",
        "    range_max=vocab_size,  # [0, vocab_size]\n",
        "    seed=SEED,\n",
        "    name=\"negative_sampling\"\n",
        ")"
      ]
    },
    {
      "cell_type": "code",
      "execution_count": 182,
      "metadata": {},
      "outputs": [
        {
          "name": "stdout",
          "output_type": "stream",
          "text": [
            "tf.Tensor([1 6 2 4], shape=(4,), dtype=int64)\n",
            "['the', 'unheard', 'wind', 'brown']\n"
          ]
        }
      ],
      "source": [
        "print(negative_sampling_candidates)\n",
        "print([inverse_vocab[index.numpy()] for index in negative_sampling_candidates])\n"
      ]
    },
    {
      "cell_type": "code",
      "execution_count": 183,
      "metadata": {},
      "outputs": [
        {
          "name": "stdout",
          "output_type": "stream",
          "text": [
            "[0.00315225 0.00315225 0.00547597 0.00741556 0.00912817 0.01068435\n",
            " 0.01212381]\n"
          ]
        }
      ],
      "source": [
        "sampling_table = tf.keras.preprocessing.sequence.make_sampling_table(vocab_size)  # Función que construye la tabla de muestreo en forma de frecuencias\n",
        "print(sampling_table)\n"
      ]
    },
    {
      "cell_type": "code",
      "execution_count": 184,
      "metadata": {},
      "outputs": [],
      "source": [
        "negative_sampling_candidates = tf.expand_dims(negative_sampling_candidates, 1)  # Se agrega una dimensión para poder concatenar\n",
        "context = tf.concat([context_class, negative_sampling_candidates], 0)\n",
        "label = tf.constant([1] + [0] * num_ns, dtype=\"int64\")\n",
        "target = tf.squeeze(target_word)\n",
        "context = tf.squeeze(context)\n",
        "label = tf.squeeze(label)\n",
        "\n",
        "# ¡Listo! Así se prepara la información para entrenar"
      ]
    },
    {
      "cell_type": "code",
      "execution_count": 185,
      "metadata": {},
      "outputs": [],
      "source": [
        "# Información a utilizar:\n",
        "path_to_file = tf.keras.utils.get_file('shakespeare.txt', 'https://storage.googleapis.com/download.tensorflow.org/data/shakespeare.txt')\n",
        "text_ds = tf.data.TextLineDataset(path_to_file).filter(lambda x: tf.cast(tf.strings.length(x), bool))"
      ]
    },
    {
      "cell_type": "code",
      "execution_count": 186,
      "metadata": {},
      "outputs": [
        {
          "name": "stdout",
          "output_type": "stream",
          "text": [
            "First Citizen:\n",
            "Before we proceed any further, hear me speak.\n",
            "All:\n",
            "Speak, speak.\n",
            "First Citizen:\n"
          ]
        }
      ],
      "source": [
        "#Paso 1: cree una funcion que estandarice el texto como ya hemos hecho e incrustela en una capa de Tensorflow (TextVectorization)\n",
        "from tensorflow.keras.layers import TextVectorization\n",
        "\n",
        "\n",
        "# Define la función de estandarización personalizada para la capa de vectorización\n",
        "def custom_standardization(input_text):\n",
        "    lowercase = tf.strings.lower(input_text)\n",
        "    stripped_html = tf.strings.regex_replace(lowercase, '<br />', ' ')\n",
        "    return tf.strings.regex_replace(stripped_html, '[%s]' % re.escape(string.punctuation), '')\n",
        "\n",
        "# Crear la capa de vectorización\n",
        "vectorize_layer = TextVectorization(\n",
        "    standardize=custom_standardization,\n",
        "    max_tokens=10000,\n",
        "    output_mode='int',\n",
        "    output_sequence_length=250\n",
        ")\n",
        "\n",
        "# Descargar y preparar el dataset\n",
        "path_to_file = tf.keras.utils.get_file('shakespeare.txt', 'https://storage.googleapis.com/download.tensorflow.org/data/shakespeare.txt')\n",
        "text_ds = tf.data.TextLineDataset(path_to_file).filter(lambda x: tf.cast(tf.strings.length(x), bool))\n",
        "\n",
        "# Adaptar la capa con los datos\n",
        "vectorize_layer.adapt(text_ds.batch(1024))\n",
        "\n",
        "# Visualizar el texto nuevamente\n",
        "for line in text_ds.take(5):\n",
        "    print(line.numpy().decode('utf-8'))"
      ]
    },
    {
      "cell_type": "code",
      "execution_count": 187,
      "metadata": {},
      "outputs": [],
      "source": [
        "vectorize_layer.adapt(text_ds.batch(1024))"
      ]
    },
    {
      "cell_type": "code",
      "execution_count": 188,
      "metadata": {},
      "outputs": [],
      "source": [
        "def prepare_training_data(sentences, window_size=2, num_ns=4, seed=42):\n",
        "    tokens = [sentence.lower().split() for sentence in sentences]\n",
        "    vocab = {word: idx + 1 for idx, word in enumerate(set(sum(tokens, [])))}\n",
        "    vocab[\"<pad>\"] = 0  # Añadir palabra de padding\n",
        "\n",
        "    vocab_size = len(vocab) + 1  # Añadir 1 para incluir <pad>\n",
        "    \n",
        "    # Convertir sentencias a secuencias de índices\n",
        "    sequences = [[vocab[word] for word in token_list] for token_list in tokens]\n",
        "\n",
        "    sampling_table = tf.keras.preprocessing.sequence.make_sampling_table(vocab_size)\n",
        "    pairs = []\n",
        "    labels = []\n",
        "\n",
        "    for sequence in sequences:\n",
        "        positive_skip_grams, _ = tf.keras.preprocessing.sequence.skipgrams(\n",
        "            sequence,\n",
        "            vocabulary_size=vocab_size,\n",
        "            window_size=window_size,\n",
        "            negative_samples=0,\n",
        "            sampling_table=sampling_table\n",
        "        )\n",
        "\n",
        "        for target_word, context_word in positive_skip_grams:\n",
        "            context_class = tf.reshape(tf.constant(context_word, dtype=\"int64\"), (1, 1))\n",
        "            negative_sampling_candidates, _, _ = tf.random.log_uniform_candidate_sampler(\n",
        "                true_classes=context_class,\n",
        "                num_true=1,\n",
        "                num_sampled=num_ns,\n",
        "                unique=True,\n",
        "                range_max=vocab_size,\n",
        "                seed=seed,\n",
        "                name=\"negative_sampling\"\n",
        "            )\n",
        "\n",
        "            pairs.append([target_word, context_word])\n",
        "            labels.append(1)\n",
        "\n",
        "            for neg_word in negative_sampling_candidates:\n",
        "                pairs.append([target_word, neg_word.numpy()])\n",
        "                labels.append(0)\n",
        "\n",
        "    return pairs, labels, vocab_size\n"
      ]
    },
    {
      "cell_type": "code",
      "execution_count": 189,
      "metadata": {},
      "outputs": [],
      "source": [
        "SEED = 42\n",
        "AUTOTUNE = tf.data.AUTOTUNE\n",
        "# Vectorize the data in text_ds.\n",
        "text_vector_ds = text_ds.batch(1024).prefetch(AUTOTUNE).map(vectorize_layer).unbatch()\n",
        "sequences = list(text_vector_ds.as_numpy_iterator())"
      ]
    },
    {
      "cell_type": "code",
      "execution_count": 190,
      "metadata": {},
      "outputs": [],
      "source": [
        "#El siguiente codigo es el modelo Word2Vec usando lo que ya han hecho. Sin embargo, deben agregar la metrica de similitud que vimos en clase, a la cual deben llamar dots\n",
        "class Word2Vec(tf.keras.Model):\n",
        "  def __init__(self, vocab_size, embedding_dim):\n",
        "    super(Word2Vec, self).__init__()\n",
        "    self.target_embedding = layers.Embedding(vocab_size,\n",
        "                                      embedding_dim,\n",
        "                                      name=\"w2v_embedding\")\n",
        "    self.context_embedding = layers.Embedding(vocab_size,\n",
        "                                       embedding_dim)\n",
        "\n",
        "  def call(self, pair):\n",
        "    target, context = pair\n",
        "    # target: (batch, dummy?)  # The dummy axis doesn't exist in TF2.7+\n",
        "    # context: (batch, context)\n",
        "    if len(target.shape) == 2:\n",
        "      target = tf.squeeze(target, axis=1)\n",
        "    # target: (batch,)\n",
        "    word_emb = self.target_embedding(target)\n",
        "    # word_emb: (batch, embed)\n",
        "    context_emb = self.context_embedding(context)\n",
        "\n",
        "\n",
        "    # dots: (batch, context)\n",
        "    dots = tf.einsum('be,be->b', word_emb, context_emb)  \n",
        "    return dots"
      ]
    },
    {
      "cell_type": "code",
      "execution_count": 191,
      "metadata": {},
      "outputs": [],
      "source": [
        "import tensorflow as tf\n",
        "from tensorflow.keras import layers\n",
        "from tensorflow.keras.optimizers import Adam\n",
        "from tensorflow.keras.losses import BinaryCrossentropy\n",
        "from tensorflow.keras.metrics import BinaryAccuracy\n",
        "import numpy as np\n",
        "import matplotlib.pyplot as plt\n",
        "\n",
        "# 1000 oraciones porque el dataset es muy grande\n",
        "max_sentences = 1000  \n",
        "sentences = []\n",
        "for idx, line in enumerate(text_ds):\n",
        "    if idx < max_sentences:\n",
        "        sentences.append(line.numpy().decode('utf-8'))\n",
        "    else:\n",
        "        break\n",
        "\n",
        "# Preparar los datos\n",
        "pairs, labels, vocab_size = prepare_training_data(sentences, window_size=2, num_ns=4, seed=42)\n",
        "pairs = np.array(pairs)\n",
        "labels = np.array(labels)\n",
        "\n",
        "# Crear el dataset de TensorFlow\n",
        "dataset = tf.data.Dataset.from_tensor_slices(((pairs[:, 0], pairs[:, 1]), labels))\n",
        "dataset = dataset.shuffle(buffer_size=10000).batch(32).prefetch(tf.data.AUTOTUNE)\n",
        "\n",
        "# Dividir el dataset en entrenamiento y validación\n",
        "dataset_size = len(pairs)\n",
        "train_size = int(0.8 * dataset_size)\n",
        "val_size = dataset_size - train_size\n",
        "\n",
        "# Dividir los datos en arrays de entrenamiento y validación\n",
        "train_pairs = pairs[:train_size]\n",
        "train_labels = labels[:train_size]\n",
        "val_pairs = pairs[train_size:]\n",
        "val_labels = labels[train_size:]\n",
        "\n",
        "# Crear los datasets de TensorFlow\n",
        "train_dataset = tf.data.Dataset.from_tensor_slices(((train_pairs[:, 0], train_pairs[:, 1]), train_labels)).batch(32).prefetch(tf.data.AUTOTUNE)\n",
        "val_dataset = tf.data.Dataset.from_tensor_slices(((val_pairs[:, 0], val_pairs[:, 1]), val_labels)).batch(32).prefetch(tf.data.AUTOTUNE)\n",
        "\n"
      ]
    },
    {
      "cell_type": "code",
      "execution_count": 192,
      "metadata": {},
      "outputs": [
        {
          "name": "stdout",
          "output_type": "stream",
          "text": [
            "Epoch 1/10\n"
          ]
        },
        {
          "name": "stdout",
          "output_type": "stream",
          "text": [
            "616/616 [==============================] - 5s 7ms/step - loss: 0.6504 - accuracy: 0.8029 - val_loss: 0.5494 - val_accuracy: 0.8212\n",
            "Epoch 2/10\n",
            "616/616 [==============================] - 5s 7ms/step - loss: 0.4408 - accuracy: 0.8429 - val_loss: 0.4616 - val_accuracy: 0.8390\n",
            "Epoch 3/10\n",
            "616/616 [==============================] - 5s 7ms/step - loss: 0.2960 - accuracy: 0.8906 - val_loss: 0.4606 - val_accuracy: 0.8376\n",
            "Epoch 4/10\n",
            "616/616 [==============================] - 5s 7ms/step - loss: 0.2311 - accuracy: 0.9089 - val_loss: 0.4727 - val_accuracy: 0.8382\n",
            "Epoch 5/10\n",
            "616/616 [==============================] - 4s 7ms/step - loss: 0.1938 - accuracy: 0.9198 - val_loss: 0.4847 - val_accuracy: 0.8384\n",
            "Epoch 6/10\n",
            "616/616 [==============================] - 4s 7ms/step - loss: 0.1641 - accuracy: 0.9301 - val_loss: 0.4968 - val_accuracy: 0.8380\n",
            "Epoch 7/10\n",
            "616/616 [==============================] - 5s 7ms/step - loss: 0.1377 - accuracy: 0.9420 - val_loss: 0.5101 - val_accuracy: 0.8370\n",
            "Epoch 8/10\n",
            "616/616 [==============================] - 5s 7ms/step - loss: 0.1137 - accuracy: 0.9530 - val_loss: 0.5248 - val_accuracy: 0.8364\n",
            "Epoch 9/10\n",
            "616/616 [==============================] - 4s 7ms/step - loss: 0.0923 - accuracy: 0.9634 - val_loss: 0.5406 - val_accuracy: 0.8350\n",
            "Epoch 10/10\n",
            "616/616 [==============================] - 5s 8ms/step - loss: 0.0736 - accuracy: 0.9747 - val_loss: 0.5570 - val_accuracy: 0.8343\n"
          ]
        }
      ],
      "source": [
        "tensorboard_callback = TensorBoard(log_dir=\"./\")\n",
        "\n",
        "# Crear el modelo\n",
        "model = Word2Vec(\n",
        "    vocab_size, \n",
        "    embedding_dim=128\n",
        ")\n",
        "\n",
        "# Compilar el modelo\n",
        "model.compile(optimizer=Adam(learning_rate=0.001),\n",
        "              loss=BinaryCrossentropy(from_logits=True),\n",
        "              metrics=[BinaryAccuracy(name='accuracy')])\n",
        "\n",
        "# Entrenar el modelo\n",
        "history = model.fit(train_dataset, epochs=10, validation_data=val_dataset, callbacks=[tensorboard_callback])\n"
      ]
    },
    {
      "cell_type": "code",
      "execution_count": 195,
      "metadata": {},
      "outputs": [
        {
          "data": {
            "image/png": "[encoded data removed]",
            "text/plain": [
              "<IPython.core.display.Image object>"
            ]
          },
          "execution_count": 195,
          "metadata": {},
          "output_type": "execute_result"
        }
      ],
      "source": [
        "from IPython.display import Image\n",
        "Image(\"./epoch_accuracy.png\")\n"
      ]
    },
    {
      "cell_type": "code",
      "execution_count": 196,
      "metadata": {},
      "outputs": [
        {
          "data": {
            "image/png": "[encoded data removed]",
            "text/plain": [
              "<IPython.core.display.Image object>"
            ]
          },
          "execution_count": 196,
          "metadata": {},
          "output_type": "execute_result"
        }
      ],
      "source": [
        "Image(\"./epoch_loss.png\")"
      ]
    }
  ],
  "metadata": {
    "colab": {
      "provenance": []
    },
    "kernelspec": {
      "display_name": "Python 3",
      "name": "python3"
    },
    "language_info": {
      "codemirror_mode": {
        "name": "ipython",
        "version": 3
      },
      "file_extension": ".py",
      "mimetype": "text/x-python",
      "name": "python",
      "nbconvert_exporter": "python",
      "pygments_lexer": "ipython3",
      "version": "3.11.4"
    }
  },
  "nbformat": 4,
  "nbformat_minor": 0
}
