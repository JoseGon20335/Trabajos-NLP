{
  "nbformat": 4,
  "nbformat_minor": 0,
  "metadata": {
    "colab": {
      "provenance": []
    },
    "kernelspec": {
      "name": "python3",
      "display_name": "Python 3"
    },
    "language_info": {
      "name": "python"
    }
  },
  "cells": [
    {
      "cell_type": "markdown",
      "source": [
        "NOMBRES:\n",
        "\n",
        "APELLIDOS:\n",
        "\n",
        "CARNE:\n",
        "\n",
        "FECHA:"
      ],
      "metadata": {
        "id": "zXhjY9dGwJls"
      }
    },
    {
      "cell_type": "markdown",
      "source": [
        "**Ejercicio 1**\n",
        "Con los datos de la clase de lunes, cálcule PPMI, pero aplicando Lapace Smoothing."
      ],
      "metadata": {
        "id": "n7nnvCPLh5Ms"
      }
    },
    {
      "cell_type": "code",
      "source": [],
      "metadata": {
        "id": "r3aTZXJeiFAI"
      },
      "execution_count": null,
      "outputs": []
    },
    {
      "cell_type": "code",
      "source": [],
      "metadata": {
        "id": "Hf3GX1_liFXd"
      },
      "execution_count": null,
      "outputs": []
    },
    {
      "cell_type": "markdown",
      "source": [
        "**Ejercicio 2**\n",
        "\n",
        "POC para crear información de entreno"
      ],
      "metadata": {
        "id": "fzRf6sNDiF1v"
      }
    },
    {
      "cell_type": "markdown",
      "source": [],
      "metadata": {
        "id": "f16xWrpDiH-9"
      }
    },
    {
      "cell_type": "code",
      "source": [
        "#Librerías que necesitarán\n",
        "import io\n",
        "import re\n",
        "import string\n",
        "import tqdm\n",
        "\n",
        "import numpy as np\n",
        "\n",
        "import tensorflow as tf\n",
        "from tensorflow.keras import layers\n",
        "from tensorflow.keras import losses\n",
        "from tensorflow.keras import preprocessing\n",
        "from tensorflow.keras import utils\n",
        "%load_ext tensorboard\n",
        "SEED = 42\n",
        "AUTOTUNE = tf.data.AUTOTUNE"
      ],
      "metadata": {
        "id": "o3CzZjlIiPA2"
      },
      "execution_count": 1,
      "outputs": []
    },
    {
      "cell_type": "code",
      "source": [
        "sentece = \"The wind Crosses the brown land unheard\" #De mis poemas fav. The waste land de T.S Elliot\n",
        "tokens = #tokenizar\n",
        "vocab, index = #arreglo vocabulario, empezar indice en 1\n",
        "vocab[\"algo importante para que no explote el programa\"] = 0\n",
        "\n",
        "#Llene el arreglo para vocabulario\n",
        "\n",
        "\n",
        "\n",
        "\n",
        "vocab_size = len(vocab)\n",
        "example_sequence = [vocab[word] for word in tokens]\n",
        "window_size = 2\n",
        "positive_skip_grams, _ = tf.keras.preprocessing.sequence.skipgrams(#rellene esta area como le sea pertinente)\n"
      ],
      "metadata": {
        "id": "e0LLReSPiVxw"
      },
      "execution_count": 5,
      "outputs": []
    },
    {
      "cell_type": "code",
      "source": [
        "#Resultados\n",
        "inverse_vocab = {index: token for token, index in vocab.items()}\n",
        "for target, context in positive_skip_grams[:5]:\n",
        "  print(f\"({target}, {context}): ({inverse_vocab[target]}, {inverse_vocab[context]})\")"
      ],
      "metadata": {
        "colab": {
          "base_uri": "https://localhost:8080/"
        },
        "id": "loA64ZR0k3L0",
        "outputId": "a8e28e58-e1bd-492c-c92b-13539c7a74c2"
      },
      "execution_count": 6,
      "outputs": [
        {
          "output_type": "stream",
          "name": "stdout",
          "text": [
            "(5, 4): (land, brown)\n",
            "(5, 6): (land, unheard)\n",
            "(1, 2): (the, wind)\n",
            "(6, 5): (unheard, land)\n",
            "(3, 4): (crosses, brown)\n"
          ]
        }
      ]
    },
    {
      "cell_type": "code",
      "source": [
        "target_word, context_word = positive_skip_grams[0]\n",
        "# Escoja un numero para muestras negativos (que no pertenence al contexto)\n",
        "num_ns =\n",
        "\n",
        "context_class = tf.reshape(tf.constant(context_word, dtype=\"int64\"), (1, 1))\n",
        "negative_sampling_candidates, _, _ = tf.random.log_uniform_candidate_sampler(\n",
        "    true_classes=  # clase que debe ser muestreada como positiva (que pertenece al contexto)\n",
        "    num_true=1,\n",
        "    num_sampled=num_ns,\n",
        "    unique=True,\n",
        "    range_max=vocab_size,  # [0,vocab_size]\n",
        "    seed=SEED,\n",
        "    name=\"negative_sampling\"\n",
        ")"
      ],
      "metadata": {
        "id": "GdtE3R10lcAG"
      },
      "execution_count": null,
      "outputs": []
    },
    {
      "cell_type": "code",
      "source": [
        "print(negative_sampling_candidates)\n",
        "print([inverse_vocab[index.numpy()] for index in negative_sampling_candidates])"
      ],
      "metadata": {
        "id": "WcxIUEmpmUt7"
      },
      "execution_count": null,
      "outputs": []
    },
    {
      "cell_type": "code",
      "source": [
        "sampling_table = tf.keras.preprocessing.sequence. #funcion que construye la tabla de muestreo en forma de frecuencias\n",
        "print(sampling_table)"
      ],
      "metadata": {
        "id": "OpVHwBkDAurO"
      },
      "execution_count": null,
      "outputs": []
    },
    {
      "cell_type": "code",
      "source": [
        "negative_sampling_candidates = tf.expand_dims(negative_sampling_candidates, 1) #se agrega una dimension para poder concatenar\n",
        "context = tf.concat([context_class, negative_sampling_candidates], 0)\n",
        "label = tf.constant([1] + [0]*num_ns, dtype=\"int64\")\n",
        "target = tf.squeeze(target_word)\n",
        "context = tf.squeeze(context)\n",
        "label = tf.squeeze(label)\n",
        "\n",
        "#Listo! asi se prepara la info para entrenar"
      ],
      "metadata": {
        "id": "t3iK0LesA5Lu"
      },
      "execution_count": null,
      "outputs": []
    },
    {
      "cell_type": "code",
      "source": [
        "#Informacion a utilizar:\n",
        "path_to_file = tf.keras.utils.get_file('shakespeare.txt', 'https://storage.googleapis.com/download.tensorflow.org/data/shakespeare.txt')\n",
        "text_ds = tf.data.TextLineDataset(path_to_file).filter(lambda x: tf.cast(tf.strings.length(x), bool))"
      ],
      "metadata": {
        "colab": {
          "base_uri": "https://localhost:8080/"
        },
        "id": "FNHYhsn6D-jS",
        "outputId": "6dee158e-2219-440c-f8bd-62d824c1489b"
      },
      "execution_count": 2,
      "outputs": [
        {
          "output_type": "stream",
          "name": "stdout",
          "text": [
            "Downloading data from https://storage.googleapis.com/download.tensorflow.org/data/shakespeare.txt\n",
            "\u001b[1m1115394/1115394\u001b[0m \u001b[32m━━━━━━━━━━━━━━━━━━━━\u001b[0m\u001b[37m\u001b[0m \u001b[1m0s\u001b[0m 0us/step\n"
          ]
        }
      ]
    },
    {
      "cell_type": "code",
      "source": [
        "#Paso 1: cree una funcion que estandarice el texto como ya hemos hecho e incrustela en una capa de Tensorflow (TextVectorization)\n",
        "\n",
        "\n",
        "\n"
      ],
      "metadata": {
        "id": "omu8ON00A_0H"
      },
      "execution_count": null,
      "outputs": []
    },
    {
      "cell_type": "code",
      "source": [
        "vectorize_layer.adapt(text_ds.batch(1024))"
      ],
      "metadata": {
        "id": "y64v-qOFDhDj"
      },
      "execution_count": null,
      "outputs": []
    },
    {
      "cell_type": "code",
      "source": [
        "#Paso 2: Usando la POC de creacion de datos de entreno, defina una funcion para este proceso\n",
        "\n",
        "\n",
        "\n",
        "\n"
      ],
      "metadata": {
        "id": "-h5OvM9GDrRt"
      },
      "execution_count": null,
      "outputs": []
    },
    {
      "cell_type": "code",
      "source": [
        "SEED = 42\n",
        "AUTOTUNE = tf.data.AUTOTUNE\n",
        "# Vectorize the data in text_ds.\n",
        "text_vector_ds = text_ds.batch(1024).prefetch(AUTOTUNE).map(vectorize_layer).unbatch()\n",
        "sequences = list(text_vector_ds.as_numpy_iterator())"
      ],
      "metadata": {
        "id": "pMmxeZPbEMOg"
      },
      "execution_count": null,
      "outputs": []
    },
    {
      "cell_type": "code",
      "source": [
        "#El siguiente codigo es el modelo Word2Vec usando lo que ya han hecho. Sin embargo, deben agregar la metrica de similitud que vimos en clase, a la cual deben llamar dots\n",
        "class Word2Vec(tf.keras.Model):\n",
        "  def __init__(self, vocab_size, embedding_dim):\n",
        "    super(Word2Vec, self).__init__()\n",
        "    self.target_embedding = layers.Embedding(vocab_size,\n",
        "                                      embedding_dim,\n",
        "                                      name=\"w2v_embedding\")\n",
        "    self.context_embedding = layers.Embedding(vocab_size,\n",
        "                                       embedding_dim)\n",
        "\n",
        "  def call(self, pair):\n",
        "    target, context = pair\n",
        "    # target: (batch, dummy?)  # The dummy axis doesn't exist in TF2.7+\n",
        "    # context: (batch, context)\n",
        "    if len(target.shape) == 2:\n",
        "      target = tf.squeeze(target, axis=1)\n",
        "    # target: (batch,)\n",
        "    word_emb = self.target_embedding(target)\n",
        "    # word_emb: (batch, embed)\n",
        "    context_emb = self.context_embedding(context)\n",
        "\n",
        "\n",
        "    # dots: (batch, context)\n",
        "    return dots"
      ],
      "metadata": {
        "id": "CsgvY5hZE5X4"
      },
      "execution_count": null,
      "outputs": []
    },
    {
      "cell_type": "code",
      "source": [
        "#Entrenar modelo y definir CategoricalCrossEntropy como funcion de perdida. Mostrar el print de accuracy y loss. Si deciden presentar sus resultados en tensorboard, adjuntar capturas."
      ],
      "metadata": {
        "id": "eCX5lVLdFN-D"
      },
      "execution_count": null,
      "outputs": []
    }
  ]
}