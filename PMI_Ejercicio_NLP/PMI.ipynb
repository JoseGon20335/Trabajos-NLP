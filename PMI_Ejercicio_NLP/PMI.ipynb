{
 "cells": [
  {
   "cell_type": "markdown",
   "metadata": {},
   "source": [
    "### PMI ejercicio\n",
    "#### Jose Miguel Gonzalez\n",
    "#### 20335"
   ]
  },
  {
   "cell_type": "code",
   "execution_count": 5,
   "metadata": {},
   "outputs": [
    {
     "name": "stdout",
     "output_type": "stream",
     "text": [
      "Los resultados han sido guardados en 'resultados_pmi.csv' y 'resultados_ppmi.csv'.\n"
     ]
    },
    {
     "name": "stderr",
     "output_type": "stream",
     "text": [
      "C:\\Users\\josem\\AppData\\Local\\Temp\\ipykernel_35548\\1064405891.py:23: RuntimeWarning: divide by zero encountered in log\n",
      "  pmi = np.log(joint_prob / (row_marginal_prob[:, None] * col_marginal_prob[None, :]))\n"
     ]
    }
   ],
   "source": [
    "import numpy as np\n",
    "import pandas as pd\n",
    "\n",
    "# Cargar el archivo\n",
    "file_path = './pmi_ejercicio.xlsx'\n",
    "df = pd.read_excel(file_path, sheet_name='Sheet1', header=1)\n",
    "\n",
    "# Convertir el DataFrame\n",
    "words = df.columns[1:]\n",
    "data = df.iloc[:, 1:].values\n",
    "\n",
    "# Aplicar suavizado de Laplace\n",
    "alpha = 1  # Valor de suavizado\n",
    "data_smoothed = data + alpha\n",
    "\n",
    "# Suma total de la matriz con suavizado\n",
    "total_sum = np.sum(data_smoothed)\n",
    "\n",
    "# Calcular probabilidades conjuntas con suavizado\n",
    "joint_prob = data_smoothed / total_sum\n",
    "\n",
    "# Calcular probabilidades marginales\n",
    "row_marginal_prob = np.sum(joint_prob, axis=1)\n",
    "col_marginal_prob = np.sum(joint_prob, axis=0)\n",
    "\n",
    "# Calcular PMI con suavizado\n",
    "pmi = np.log(joint_prob / (row_marginal_prob[:, None] * col_marginal_prob[None, :]))\n",
    "\n",
    "# Evitar problemas con probabilidades conjuntas de cero\n",
    "pmi[np.isneginf(pmi)] = 0  # Reemplazar infinitos negativos por cero\n",
    "\n",
    "# Calcular PPMI\n",
    "ppmi = np.maximum(pmi, 0)\n",
    "\n",
    "# Guardar resultados en archivos\n",
    "pmi_df = pd.DataFrame(pmi, index=df.iloc[:, 0], columns=words)\n",
    "ppmi_df = pd.DataFrame(ppmi, index=df.iloc[:, 0], columns=words)\n",
    "\n",
    "pmi_df.to_csv('resultados_pmi_suavizado.csv')\n",
    "ppmi_df.to_csv('resultados_ppmi_suavizado.csv')\n",
    "\n",
    "print(\"Los resultados suavizados han sido guardados.\")\n"
   ]
  }
 ],
 "metadata": {
  "kernelspec": {
   "display_name": "Python 3",
   "language": "python",
   "name": "python3"
  },
  "language_info": {
   "codemirror_mode": {
    "name": "ipython",
    "version": 3
   },
   "file_extension": ".py",
   "mimetype": "text/x-python",
   "name": "python",
   "nbconvert_exporter": "python",
   "pygments_lexer": "ipython3",
   "version": "3.11.4"
  }
 },
 "nbformat": 4,
 "nbformat_minor": 2
}
