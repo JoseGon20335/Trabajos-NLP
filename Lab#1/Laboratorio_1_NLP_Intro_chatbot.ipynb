{
  "cells": [
    {
      "cell_type": "markdown",
      "metadata": {
        "id": "zXhjY9dGwJls"
      },
      "source": [
        "NOMBRES: Jose Miguel\n",
        "\n",
        "APELLIDOS:  Gonzalez y Gonzalez\n",
        "\n",
        "CARNE: 20335\n",
        "\n",
        "FECHA: 7/11/2024"
      ]
    },
    {
      "cell_type": "markdown",
      "metadata": {
        "id": "48-U5dvMxDBK"
      },
      "source": [
        "***Instrucciones:**\n",
        "\n",
        "Objetivo general: Construir un chatbot simple que responda en dos condiciones: si se le habla por su nombre que responda preguntando cómo estás. Si se le habla por un apodo que \"considere\" ofensivo, que responda \"No me trates así\".\n",
        "\n",
        "\n",
        "1.   Investigue la librería re de Python"
      ]
    },
    {
      "cell_type": "markdown",
      "metadata": {},
      "source": [
        "2.   Determine, como expresiones regulares de saludo a \"Hola\", \"Que tal\", \"Buenos días\", \"Buenas tardes\". Si usted considera pertinente agregar una más tiene libertad de hacerlo."
      ]
    },
    {
      "cell_type": "markdown",
      "metadata": {},
      "source": [
        "3. Procure que el chatbot no sea \"case sensitive\".\n",
        "\n",
        "\n",
        "R/ Las expresiones regulares incluyen el flag re.IGNORECASE para asegurarse de que la coincidencia no sea sensible a mayúsculas y minúsculas."
      ]
    },
    {
      "cell_type": "markdown",
      "metadata": {},
      "source": [
        "4. Procure que el chatbot pueda trabajar con todos los caracteres de \"a-z\".}\n",
        "\n",
        "\n",
        "R/ Las expresiones regulares definidas funcionan con caracteres de \"a-z\" y son independientes de la capitalización debido al flag re.IGNORECASE."
      ]
    },
    {
      "cell_type": "markdown",
      "metadata": {},
      "source": [
        "5. Evalue si su chatbot es susceptible a errores ortográficos. ¿Sí o no? En caso afirmativo ¿Cómo lo corregiría? Discuta su idea, no está obligado a programarlo.\n",
        "\n",
        "\n",
        "R/Para manejar errores ortográficos, una posible solución sería utilizar una librería como fuzzywuzzy o difflib que permite comparar cadenas y calcular la similitud entre ellas. Esto se podría utilizar para corregir errores ortográficos en los saludos."
      ]
    },
    {
      "cell_type": "code",
      "execution_count": 1,
      "metadata": {},
      "outputs": [
        {
          "name": "stderr",
          "output_type": "stream",
          "text": [
            "c:\\Users\\josem\\AppData\\Local\\Programs\\Python\\Python311\\Lib\\site-packages\\fuzzywuzzy\\fuzz.py:11: UserWarning: Using slow pure-python SequenceMatcher. Install python-Levenshtein to remove this warning\n",
            "  warnings.warn('Using slow pure-python SequenceMatcher. Install python-Levenshtein to remove this warning')\n"
          ]
        }
      ],
      "source": [
        "import re\n",
        "from fuzzywuzzy import process"
      ]
    },
    {
      "cell_type": "code",
      "execution_count": 2,
      "metadata": {
        "id": "viZbeCe1w1CN"
      },
      "outputs": [],
      "source": [
        "saludos = [\n",
        "    re.compile(r'\\b(hola)\\b', re.IGNORECASE),\n",
        "    re.compile(r'\\b(qué tal)\\b', re.IGNORECASE),\n",
        "    re.compile(r'\\b(buenos días)\\b', re.IGNORECASE),\n",
        "    re.compile(r'\\b(buenas tardes)\\b', re.IGNORECASE),\n",
        "    re.compile(r'\\b(buenas noches)\\b', re.IGNORECASE)\n",
        "]\n"
      ]
    },
    {
      "cell_type": "code",
      "execution_count": 3,
      "metadata": {},
      "outputs": [],
      "source": [
        "# Nombres y apodos\n",
        "nombre = \"Chatbot\"\n",
        "apodos_ofensivos = [\"tonto\", \"idiota\", \"estúpido\"]"
      ]
    },
    {
      "cell_type": "code",
      "execution_count": 4,
      "metadata": {},
      "outputs": [],
      "source": [
        "def responder(mensaje):\n",
        "    # Verificar si se está utilizando el nombre del chatbot\n",
        "    if nombre.lower() in mensaje.lower():\n",
        "        return \"¿Cómo estás?\"\n",
        "    \n",
        "    # Verificar si se está utilizando un apodo ofensivo\n",
        "    for apodo in apodos_ofensivos:\n",
        "        if apodo.lower() in mensaje.lower():\n",
        "            return \"No me trates así\"\n",
        "    \n",
        "    # Verificar saludos\n",
        "    for saludo in saludos:\n",
        "        if saludo.search(mensaje):\n",
        "            return \"¡Hola! ¿En qué puedo ayudarte?\"\n",
        "    \n",
        "    return \"No entiendo lo que dices.\""
      ]
    },
    {
      "cell_type": "code",
      "execution_count": 5,
      "metadata": {},
      "outputs": [
        {
          "name": "stdout",
          "output_type": "stream",
          "text": [
            "¿Cómo estás?\n",
            "No me trates así\n",
            "¿Cómo estás?\n",
            "¿Cómo estás?\n"
          ]
        }
      ],
      "source": [
        "# Ejemplos de uso\n",
        "print(responder(\"Hola Chatbot\"))\n",
        "print(responder(\"Hola, idiota\"))\n",
        "print(responder(\"Qué tal, Chatbot\"))\n",
        "print(responder(\"Buenas noches, Chatbot\"))"
      ]
    },
    {
      "cell_type": "code",
      "execution_count": 6,
      "metadata": {},
      "outputs": [],
      "source": [
        "# Función para corregir saludos con errores ortográficos\n",
        "def corregir_saludo(mensaje):\n",
        "    saludos_posibles = [\"hola\", \"qué tal\", \"buenos días\", \"buenas tardes\", \"buenas noches\"]\n",
        "    mejor_coincidencia, puntuacion = process.extractOne(mensaje, saludos_posibles)\n",
        "    if puntuacion > 80:  # Umbral de similitud\n",
        "        return mejor_coincidencia\n",
        "    return None"
      ]
    },
    {
      "cell_type": "code",
      "execution_count": 7,
      "metadata": {},
      "outputs": [],
      "source": [
        "def responder_con_correccion(mensaje):\n",
        "    # Verificar si se está utilizando el nombre del chatbot\n",
        "    if nombre.lower() in mensaje.lower():\n",
        "        return \"Que onda, ¿Cómo estás?\"\n",
        "    \n",
        "    # Verificar si se está utilizando un apodo ofensivo\n",
        "    for apodo in apodos_ofensivos:\n",
        "        if apodo.lower() in mensaje.lower():\n",
        "            return \"No me trates así\"\n",
        "    \n",
        "    # Verificar y corregir saludos\n",
        "    saludo_corregido = corregir_saludo(mensaje.lower())\n",
        "    if saludo_corregido:\n",
        "        return \"¡Hola! ¿En qué puedo ayudarte?\"\n",
        "    \n",
        "    return \"No entiendo lo que dices.\""
      ]
    },
    {
      "cell_type": "code",
      "execution_count": 8,
      "metadata": {},
      "outputs": [
        {
          "name": "stdout",
          "output_type": "stream",
          "text": [
            "¿Cómo estás?\n",
            "No me trates así\n",
            "¿Cómo estás?\n",
            "¿Cómo estás?\n"
          ]
        }
      ],
      "source": [
        "# Ejemplos de uso\n",
        "print(responder_con_correccion(\"Hoola Chatbot\"))\n",
        "print(responder_con_correccion(\"Hola, idiota\"))\n",
        "print(responder_con_correccion(\"Qu tal, Chatbot\"))\n",
        "print(responder_con_correccion(\"Bunas noches, Chatbot\"))"
      ]
    }
  ],
  "metadata": {
    "colab": {
      "provenance": []
    },
    "kernelspec": {
      "display_name": "Python 3",
      "name": "python3"
    },
    "language_info": {
      "codemirror_mode": {
        "name": "ipython",
        "version": 3
      },
      "file_extension": ".py",
      "mimetype": "text/x-python",
      "name": "python",
      "nbconvert_exporter": "python",
      "pygments_lexer": "ipython3",
      "version": "3.11.4"
    }
  },
  "nbformat": 4,
  "nbformat_minor": 0
}
